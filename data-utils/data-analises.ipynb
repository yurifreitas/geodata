{
 "cells": [
  {
   "cell_type": "code",
   "execution_count": 4,
   "id": "7fec09b9-8ae6-4bbc-a154-061dccd46a44",
   "metadata": {},
   "outputs": [
    {
     "name": "stdout",
     "output_type": "stream",
     "text": [
      "Áreas de risco de enchente identificadas.\n",
      "Mapa de risco de enchente salvo com informações de georreferenciamento.\n"
     ]
    },
    {
     "name": "stderr",
     "output_type": "stream",
     "text": [
      "ERROR 1: Key Unknown-0 of TIFFTagLocation=0 has count=0, whereas only 1 is legal.\n",
      "ERROR 1: Key Unknown-0 of TIFFTagLocation=0 has count=0, whereas only 1 is legal.\n",
      "Warning 1: /home/dv/Labs/notebook/sentinel-cloud/zonas/32S525ZN/32S525ZN.tif: GeoTIFF tags apparently corrupt, they are being ignored.\n"
     ]
    }
   ],
   "source": [
    "from osgeo import gdal, gdal_array\n",
    "import numpy as np\n",
    "\n",
    "# Caminho para os arquivos raster\n",
    "altitude_path = '/home/dv/Labs/notebook/sentinel-cloud/zonas/32S525ZN/32S525ZN.tif'\n",
    "slope_path = '/home/dv/Labs/notebook/sentinel-cloud/zonas/32S525SN/32S525SN.tif'\n",
    "\n",
    "# Abrir os arquivos GeoTIFF\n",
    "altitude_ds = gdal.Open(altitude_path)\n",
    "slope_ds = gdal.Open(slope_path)\n",
    "\n",
    "if altitude_ds is None or slope_ds is None:\n",
    "    print(\"Não foi possível abrir os arquivos.\")\n",
    "else:\n",
    "    altitude_band = altitude_ds.GetRasterBand(1)\n",
    "    slope_band = slope_ds.GetRasterBand(1)\n",
    "    \n",
    "    altitude_data = altitude_band.ReadAsArray()\n",
    "    slope_data = slope_band.ReadAsArray()\n",
    "\n",
    "    # Identificar áreas de baixa altitude e baixa declividade\n",
    "    flood_risk_areas = np.where((altitude_data < 10) & (slope_data < 5), 1, 0)\n",
    "    print(\"Áreas de risco de enchente identificadas.\")\n",
    "\n",
    "    # Salvar o resultado em um novo arquivo GeoTIFF\n",
    "    driver = gdal.GetDriverByName('GTiff')\n",
    "    out_ds = driver.Create('/home/dv/Labs/notebook/sentinel-cloud/zonas/32S525ZN/flood_risk_areas.tif', altitude_ds.RasterXSize, altitude_ds.RasterYSize, 1, gdal.GDT_Byte)\n",
    "    \n",
    "    # Copiar informações de georreferenciamento e projeção do dataset original\n",
    "    out_ds.SetGeoTransform(altitude_ds.GetGeoTransform())\n",
    "    out_ds.SetProjection(altitude_ds.GetProjection())\n",
    "    \n",
    "    out_band = out_ds.GetRasterBand(1)\n",
    "    out_band.WriteArray(flood_risk_areas)\n",
    "    out_band.SetNoDataValue(0)\n",
    "    out_band.FlushCache()\n",
    "    out_ds = None  # Fechar o arquivo\n",
    "\n",
    "    print(\"Mapa de risco de enchente salvo com informações de georreferenciamento.\")"
   ]
  },
  {
   "cell_type": "code",
   "execution_count": 11,
   "id": "ffafdfb2-f5db-4a68-b2ed-f9e3e13752a4",
   "metadata": {},
   "outputs": [
    {
     "name": "stdout",
     "output_type": "stream",
     "text": [
      "Índice de risco de enchente salvo em: /home/dv/Labs/notebook/sentinel-cloud/zonas/risk_index.tif\n"
     ]
    }
   ],
   "source": [
    "from osgeo import gdal\n",
    "import numpy as np\n",
    "\n",
    "url_path = \"/home/dv/Labs/notebook/sentinel-cloud/zonas/\"\n",
    "# Caminhos dos arquivos raster\n",
    "file_paths = {\n",
    "    'altitude': url_path + '32S525ZN/32S525ZN.tif',\n",
    "    'slope':  url_path +'32S525SN/32S525SN.tif',\n",
    "    'aspect':  url_path +'32S525ON/32S525ON.tif',\n",
    "    'relief':  url_path +'32S525RS/32S525RS.tif',\n",
    "    'landform':  url_path +'32S525FT/32S525FT.tif',\n",
    "    'dividers':  url_path +'32S525DD/32S525DD.tif',\n",
    "    'vertical_curvature':  url_path +'32S525VN/32S525VN.tif',\n",
    "    'horizontal_curvature':  url_path +'32S525HN/32S525HN.tif'\n",
    "}\n",
    "\n",
    "# Função para abrir e ler dados de uma camada raster\n",
    "def read_raster(file_path):\n",
    "    ds = gdal.Open(file_path)\n",
    "    if ds is None:\n",
    "        print(f\"Não foi possível abrir o arquivo: {file_path}\")\n",
    "        return None\n",
    "    band = ds.GetRasterBand(1)\n",
    "    data = band.ReadAsArray()\n",
    "    return data\n",
    "\n",
    "# Carregar todos os dados\n",
    "raster_data = {key: read_raster(path) for key, path in file_paths.items()}\n",
    "# Combina todos os arrays em uma única matriz de features\n",
    "# Apenas pixels que não são NaN em todos os rasters serão incluídos\n",
    "valid_mask = np.logical_and.reduce([data is not None for data in raster_data.values()])\n",
    "if np.any(valid_mask):\n",
    "    feature_matrix = np.stack([data[valid_mask] for data in raster_data.values() if data is not None], axis=-1)\n",
    "else:\n",
    "    print(\"Não há dados válidos para processar.\")\n",
    "# Definir pesos para cada característica com base em seu impacto no risco de alagamento\n",
    "weights = np.array([0.5, -0.3, 0.1, 0.2, 0.15, -0.1, 0.25, 0.25])\n",
    "\n",
    "# Calcular um índice de risco ponderado\n",
    "risk_index = np.dot(feature_matrix, weights)\n",
    "risk_index_normalized = (risk_index - risk_index.min()) / (risk_index.max() - risk_index.min())\n",
    "\n",
    "# Reshape back to the original masked shape and create a full-sized output array\n",
    "risk_index_full = np.full_like(list(raster_data.values())[0], np.nan, dtype=np.float32)\n",
    "risk_index_full[valid_mask] = risk_index_normalized\n",
    "\n",
    "# Save the risk index as a new GeoTIFF file\n",
    "driver = gdal.GetDriverByName('GTiff')\n",
    "output_path = url_path + \"risk_index.tif\"\n",
    "out_ds = driver.Create(output_path, risk_index_full.shape[1], risk_index_full.shape[0], 1, gdal.GDT_Float32)\n",
    "out_band = out_ds.GetRasterBand(1)\n",
    "out_band.WriteArray(risk_index_full)\n",
    "out_band.SetNoDataValue(np.nan)\n",
    "out_band.FlushCache()\n",
    "out_ds = None  # Close the file\n",
    "print(\"Índice de risco de enchente salvo em:\", output_path)\n"
   ]
  },
  {
   "cell_type": "code",
   "execution_count": 6,
   "id": "328f89dd-6a79-448f-8b57-54d2deb749c1",
   "metadata": {},
   "outputs": [],
   "source": [
    "# Exemplo de pesos - esses podem precisar ser ajustados com base em conhecimento especializado ou análise estatística\n",
    "weights = {\n",
    "    'altitude': -1.0,  # altitudes menores aumentam o risco\n",
    "    'slope': -0.5,     # declividades menores aumentam o risco\n",
    "    'aspect': 0.1,     # dependendo da orientação, pode haver um pequeno impacto\n",
    "    'relief': 0.3,     # maior relevo pode indicar maior escoamento e menor risco\n",
    "    'landform': 0.2,\n",
    "    'dividers': 0.1,\n",
    "    'vertical_curvature': 0.3,\n",
    "    'horizontal_curvature': 0.3\n",
    "}\n"
   ]
  },
  {
   "cell_type": "code",
   "execution_count": 7,
   "id": "54bedc27-7521-40e3-a2b4-e6db0cb003bc",
   "metadata": {},
   "outputs": [],
   "source": [
    "# Calcular índice de risco composto\n",
    "risk_index = np.zeros_like(list(raster_data.values())[0])  # Assume que todos os rasters têm as mesmas dimensões\n",
    "for key, data in raster_data.items():\n",
    "    if data is not None:\n",
    "        risk_index += weights[key] * data\n",
    "\n",
    "# Normalizar o índice de risco para ficar entre 0 e 1 (opcional)\n",
    "risk_index -= risk_index.min()\n",
    "risk_index /= risk_index.max()\n"
   ]
  },
  {
   "cell_type": "code",
   "execution_count": 9,
   "id": "04b5e7d4-145a-4183-814e-3edf1ad954ac",
   "metadata": {},
   "outputs": [
    {
     "name": "stdout",
     "output_type": "stream",
     "text": [
      "Índice de risco de enchente salvo.\n"
     ]
    }
   ],
   "source": [
    "driver = gdal.GetDriverByName('GTiff')\n",
    "out_ds = driver.Create('/home/dv/Labs/notebook/sentinel-cloud/zonas/risk_index.tif', risk_index.shape[1], risk_index.shape[0], 1, gdal.GDT_Float32)\n",
    "\n",
    "out_band = out_ds.GetRasterBand(1)\n",
    "out_band.WriteArray(risk_index)\n",
    "out_band.FlushCache()\n",
    "out_ds = None  # Fechar o arquivo\n",
    "print(\"Índice de risco de enchente salvo.\")\n"
   ]
  },
  {
   "cell_type": "code",
   "execution_count": 23,
   "id": "f9d69b5d-b886-4a80-a9f2-7d4b728a50e8",
   "metadata": {},
   "outputs": [
    {
     "name": "stdout",
     "output_type": "stream",
     "text": [
      "Índice de risco de enchente salvo em: /home/dv/Labs/notebook/sentinel-cloud/zonas/32S525ZN/risk_index_masked.tif\n"
     ]
    },
    {
     "name": "stderr",
     "output_type": "stream",
     "text": [
      "ERROR 1: Key Unknown-0 of TIFFTagLocation=0 has count=0, whereas only 1 is legal.\n",
      "ERROR 1: Key Unknown-0 of TIFFTagLocation=0 has count=0, whereas only 1 is legal.\n",
      "Warning 1: /home/dv/Labs/notebook/sentinel-cloud/zonas/32S525ZN/32S525ZN.tif: GeoTIFF tags apparently corrupt, they are being ignored.\n"
     ]
    }
   ],
   "source": [
    "from osgeo import gdal\n",
    "import numpy as np\n",
    "\n",
    "# Carregar dados de altitude\n",
    "altitude_path = \"/home/dv/Labs/notebook/sentinel-cloud/zonas/32S525ZN/32S525ZN.tif\"\n",
    "altitude_ds = gdal.Open(altitude_path)\n",
    "altitude_band = altitude_ds.GetRasterBand(1)\n",
    "altitude_data = altitude_band.ReadAsArray()\n",
    "\n",
    "# Definir um limiar de altitude para áreas aquáticas em Rio Grande\n",
    "water_threshold = 6,5  # Altitude em metros\n",
    "\n",
    "# Criar uma máscara para áreas não aquáticas\n",
    "land_mask = altitude_data > water_threshold\n",
    "\n",
    "# Aplicar essa máscara ao seu raster de índice de risco\n",
    "risk_index_path = \"/home/dv/Labs/notebook/sentinel-cloud/zonas/32S525ZN/risk_index.tif\"\n",
    "risk_ds = gdal.Open(risk_index_path)\n",
    "\n",
    "risk_band = risk_ds.GetRasterBand(1)\n",
    "risk_data = risk_band.ReadAsArray()\n",
    "\n",
    "# Aplicar máscara\n",
    "risk_data_masked = np.where(land_mask, risk_data, np.nan)  # Atribui NaN às áreas de água\n",
    "\n",
    "# Salvar o resultado em um novo arquivo GeoTIFF\n",
    "driver = gdal.GetDriverByName('GTiff')\n",
    "output_path = \"/home/dv/Labs/notebook/sentinel-cloud/zonas/32S525ZN/risk_index_masked.tif\"\n",
    "out_ds = driver.Create(output_path, risk_ds.RasterXSize, risk_ds.RasterYSize, 1, gdal.GDT_Float32)\n",
    "out_ds.SetGeoTransform(altitude_ds.GetGeoTransform())\n",
    "out_ds.SetProjection(altitude_ds.GetProjection())\n",
    "out_band = out_ds.GetRasterBand(1)\n",
    "out_band.WriteArray(risk_data_masked)\n",
    "out_band.SetNoDataValue(np.nan)\n",
    "out_band.FlushCache()\n",
    "out_ds = None  # Fechar o arquivo\n",
    "print(\"Índice de risco de enchente salvo em:\", output_path)\n"
   ]
  },
  {
   "cell_type": "code",
   "execution_count": 28,
   "id": "2782e67d-f8bf-4823-9ae3-9a9a39b48766",
   "metadata": {},
   "outputs": [
    {
     "name": "stderr",
     "output_type": "stream",
     "text": [
      "ERROR 1: Key Unknown-0 of TIFFTagLocation=0 has count=0, whereas only 1 is legal.\n",
      "ERROR 1: Key Unknown-0 of TIFFTagLocation=0 has count=0, whereas only 1 is legal.\n",
      "Warning 1: /home/dv/Labs/notebook/sentinel-cloud/zonas/32S525ZN/32S525ZN.tif: GeoTIFF tags apparently corrupt, they are being ignored.\n"
     ]
    },
    {
     "name": "stdout",
     "output_type": "stream",
     "text": [
      "Índice de risco de enchente salvo em: /home/dv/Labs/notebook/sentinel-cloud/zonas/32S525ZN/risk_index_masked.tif\n",
      "Contornos da região de interesse salvos em: /home/dv/Labs/notebook/sentinel-cloud/zonas/32S525ZN/altitude_contours.tif\n"
     ]
    }
   ],
   "source": [
    "    from osgeo import gdal\n",
    "    import numpy as np\n",
    "    import cv2\n",
    "    \n",
    "    # Carregar dados de altitude\n",
    "    altitude_path = \"/home/dv/Labs/notebook/sentinel-cloud/zonas/32S525ZN/32S525ZN.tif\"\n",
    "    altitude_ds = gdal.Open(altitude_path)\n",
    "    altitude_band = altitude_ds.GetRasterBand(1)\n",
    "    altitude_data = altitude_band.ReadAsArray()\n",
    "    \n",
    "    # Definir um limiar de altitude para áreas aquáticas em Rio Grande\n",
    "    water_threshold = 6.5  # Altitude em metros\n",
    "    \n",
    "    # Criar uma máscara para áreas não aquáticas\n",
    "    land_mask = altitude_data > water_threshold\n",
    "    \n",
    "    # Aplicar essa máscara ao seu raster de índice de risco\n",
    "    risk_index_path = \"/home/dv/Labs/notebook/sentinel-cloud/zonas/32S525ZN/risk_index.tif\"\n",
    "    risk_ds = gdal.Open(risk_index_path)\n",
    "    \n",
    "    risk_band = risk_ds.GetRasterBand(1)\n",
    "    risk_data = risk_band.ReadAsArray()\n",
    "    \n",
    "    # Aplicar máscara\n",
    "    risk_data_masked = np.where(land_mask, risk_data, np.nan)  # Atribui NaN às áreas de água\n",
    "    \n",
    "    # Salvar o resultado em um novo arquivo GeoTIFF\n",
    "    driver = gdal.GetDriverByName('GTiff')\n",
    "    output_path = \"/home/dv/Labs/notebook/sentinel-cloud/data-out/risk_index_masked.tif\"\n",
    "    out_ds = driver.Create(output_path, risk_ds.RasterXSize, risk_ds.RasterYSize, 1, gdal.GDT_Float32)\n",
    "    out_ds.SetGeoTransform(altitude_ds.GetGeoTransform())\n",
    "    out_ds.SetProjection(altitude_ds.GetProjection())\n",
    "    out_band = out_ds.GetRasterBand(1)\n",
    "    out_band.WriteArray(risk_data_masked)\n",
    "    out_band.SetNoDataValue(np.nan)\n",
    "    out_band.FlushCache()\n",
    "    out_ds = None  # Fechar o arquivo\n",
    "    print(\"Índice de risco de enchente salvo em:\", output_path)\n",
    "    \n",
    "    # Gerar contornos na região de interesse\n",
    "    contours, _ = cv2.findContours((land_mask * 255).astype(np.uint8), cv2.RETR_EXTERNAL, cv2.CHAIN_APPROX_SIMPLE)\n",
    "    \n",
    "    # Desenhar os contornos no arquivo de altitude\n",
    "    altitude_contours = cv2.drawContours(altitude_data.astype(np.uint8), contours, -1, (255), 1)\n",
    "    \n",
    "    # Salvar o resultado em um novo arquivo GeoTIFF\n",
    "    output_contours_path = \"/home/dv/Labs/notebook/sentinel-cloud/data-out/altitude_contours.tif\"\n",
    "    out_contours_ds = driver.Create(output_contours_path, altitude_ds.RasterXSize, altitude_ds.RasterYSize, 1, gdal.GDT_Byte)\n",
    "    out_contours_ds.SetGeoTransform(altitude_ds.GetGeoTransform())\n",
    "    out_contours_ds.SetProjection(altitude_ds.GetProjection())\n",
    "    out_contours_band = out_contours_ds.GetRasterBand(1)\n",
    "    out_contours_band.WriteArray(altitude_contours)\n",
    "    out_contours_band.FlushCache()\n",
    "    out_contours_ds = None  # Fechar o arquivo\n",
    "    print(\"Contornos da região de interesse salvos em:\", output_contours_path)\n"
   ]
  },
  {
   "cell_type": "code",
   "execution_count": 26,
   "id": "7d46c34f-7484-4084-9608-8b62cc9f9aec",
   "metadata": {},
   "outputs": [
    {
     "name": "stdout",
     "output_type": "stream",
     "text": [
      "Collecting opencv-python\n",
      "  Using cached opencv_python-4.9.0.80-cp37-abi3-manylinux_2_17_x86_64.manylinux2014_x86_64.whl.metadata (20 kB)\n",
      "Requirement already satisfied: numpy>=1.21.2 in /home/dv/anaconda3/lib/python3.11/site-packages (from opencv-python) (1.26.4)\n",
      "Using cached opencv_python-4.9.0.80-cp37-abi3-manylinux_2_17_x86_64.manylinux2014_x86_64.whl (62.2 MB)\n",
      "Installing collected packages: opencv-python\n",
      "Successfully installed opencv-python-4.9.0.80\n"
     ]
    }
   ],
   "source": [
    "!pip install opencv-python\n"
   ]
  },
  {
   "cell_type": "code",
   "execution_count": 6,
   "id": "0fe348c3-2aeb-466c-8ff7-2ed37c5e529e",
   "metadata": {},
   "outputs": [
    {
     "name": "stderr",
     "output_type": "stream",
     "text": [
      "ERROR 1: Key Unknown-0 of TIFFTagLocation=0 has count=0, whereas only 1 is legal.\n"
     ]
    }
   ],
   "source": [
    "from osgeo import gdal\n",
    "import numpy as np\n",
    "import geopandas as gpd\n",
    "from sklearn.ensemble import RandomForestClassifier\n",
    "from sklearn.model_selection import train_test_split\n",
    "from skimage import exposure\n",
    "\n",
    "# Carregar dados de altitude\n",
    "altitude_path = \"/home/dv/Labs/notebook/sentinel-cloud/zonas/32S525ZN/32S525ZN.tif\"\n",
    "ds = gdal.Open(altitude_path)\n",
    "band = ds.GetRasterBand(1)\n",
    "altitude_data = band.ReadAsArray()\n",
    "\n",
    "# Normalizar e equalizar os dados de altitude para melhorar a distribuição\n",
    "altitude_data_normalized = exposure.equalize_hist(altitude_data)\n",
    "\n",
    "# Simulando dados de outras fontes (ex: umidade, precipitação) para o exemplo\n",
    "# Estes dados devem ser substituídos por dados reais\n",
    "humidity_data = np.random.random(altitude_data.shape)\n",
    "precipitation_data = np.random.random(altitude_data.shape)\n",
    "\n",
    "# Empilhar os rasters para formar um conjunto de características\n",
    "features = np.stack([altitude_data_normalized, humidity_data, precipitation_data], axis=-1)\n",
    "features = features.reshape(-1, 3)  # Reshape para (n_samples, n_features)\n",
    "\n",
    "# Simular uma máscara de risco de inundação para treinamento\n",
    "risk_labels = (altitude_data < 5).reshape(-1)  # Esta é uma simplificação, substituir por dados reais\n",
    "\n",
    "# Dividir dados para treinamento e teste\n",
    "X_train, X_test, y_train, y_test = train_test_split(features, risk_labels, test_size=0.2, random_state=42)\n",
    "\n",
    "# Modelo de classificação\n",
    "model = RandomForestClassifier(n_estimators=100, random_state=42)\n",
    "model.fit(X_train, y_train)\n",
    "\n",
    "# Prever o risco de enchente\n",
    "predicted_risk = model.predict(features).reshape(altitude_data.shape)\n",
    "\n",
    "# Converter o array para um GeoDataFrame\n",
    "transform = ds.GetGeoTransform()\n",
    "pixelWidth = transform[1]\n",
    "pixelHeight = -transform[5]\n",
    "cols = ds.RasterXSize\n",
    "rows = ds.RasterYSize\n",
    "xLeft = transform[0]\n",
    "yTop = transform[3]\n",
    "\n",
    "x_right = xLeft + (cols * pixelWidth)\n",
    "y_bottom = yTop + (rows * pixelHeight)\n",
    "\n",
    "x = np.linspace(xLeft, x_right, cols, endpoint=False)\n",
    "y = np.linspace(yTop, y_bottom, rows, endpoint=False)\n",
    "x, y = np.meshgrid(x, y)\n",
    "\n"
   ]
  },
  {
   "cell_type": "code",
   "execution_count": null,
   "id": "7bd33d4e-7c33-4435-abd2-8cd032cb25b3",
   "metadata": {},
   "outputs": [],
   "source": [
    "gdf = gpd.GeoDataFrame({'risk': predicted_risk.flatten()}, geometry=gpd.points_from_xy(x.flatten(), y.flatten()))\n",
    "\n",
    "# Exportar para Shapefile\n",
    "output_shapefile = \"/home/dv/Labs/notebook/sentinel-cloud/data-out/flood_risk_zones.shp\"\n",
    "gdf.to_file(output_shapefile)\n",
    "\n",
    "print(f\"Shapefile de zonas de risco de enchente salvo em: {output_shapefile}\")\n"
   ]
  },
  {
   "cell_type": "code",
   "execution_count": null,
   "id": "0415e932-c44c-4d6a-819f-74d6f9dad421",
   "metadata": {},
   "outputs": [],
   "source": []
  },
  {
   "cell_type": "code",
   "execution_count": 5,
   "id": "7134bc2c-1c1a-4780-9117-fc7cf7781a76",
   "metadata": {},
   "outputs": [
    {
     "ename": "ModuleNotFoundError",
     "evalue": "No module named 'cupy'",
     "output_type": "error",
     "traceback": [
      "\u001b[0;31m---------------------------------------------------------------------------\u001b[0m",
      "\u001b[0;31mModuleNotFoundError\u001b[0m                       Traceback (most recent call last)",
      "Cell \u001b[0;32mIn[5], line 4\u001b[0m\n\u001b[1;32m      2\u001b[0m \u001b[38;5;28;01mimport\u001b[39;00m \u001b[38;5;21;01mnumpy\u001b[39;00m \u001b[38;5;28;01mas\u001b[39;00m \u001b[38;5;21;01mnp\u001b[39;00m\n\u001b[1;32m      3\u001b[0m \u001b[38;5;28;01mimport\u001b[39;00m \u001b[38;5;21;01mgeopandas\u001b[39;00m \u001b[38;5;28;01mas\u001b[39;00m \u001b[38;5;21;01mgpd\u001b[39;00m\n\u001b[0;32m----> 4\u001b[0m \u001b[38;5;28;01mimport\u001b[39;00m \u001b[38;5;21;01mcupy\u001b[39;00m \u001b[38;5;28;01mas\u001b[39;00m \u001b[38;5;21;01mcp\u001b[39;00m\n\u001b[1;32m      5\u001b[0m \u001b[38;5;28;01mfrom\u001b[39;00m \u001b[38;5;21;01mcuml\u001b[39;00m\u001b[38;5;21;01m.\u001b[39;00m\u001b[38;5;21;01mensemble\u001b[39;00m \u001b[38;5;28;01mimport\u001b[39;00m RandomForestClassifier\n\u001b[1;32m      6\u001b[0m \u001b[38;5;28;01mfrom\u001b[39;00m \u001b[38;5;21;01mcuml\u001b[39;00m\u001b[38;5;21;01m.\u001b[39;00m\u001b[38;5;21;01mmodel_selection\u001b[39;00m \u001b[38;5;28;01mimport\u001b[39;00m train_test_split\n",
      "\u001b[0;31mModuleNotFoundError\u001b[0m: No module named 'cupy'"
     ]
    }
   ],
   "source": [
    "from osgeo import gdal\n",
    "import numpy as np\n",
    "import geopandas as gpd\n",
    "import cupy as cp\n",
    "from cuml.ensemble import RandomForestClassifier\n",
    "from cuml.model_selection import train_test_split\n",
    "from skimage import exposure\n",
    "\n",
    "# Carregar dados de altitude\n",
    "altitude_path = \"/home/dv/Labs/notebook/sentinel-cloud/zonas/32S525ZN/32S525ZN.tif\"\n",
    "ds = gdal.Open(altitude_path)\n",
    "band = ds.GetRasterBand(1)\n",
    "altitude_data = band.ReadAsArray()\n",
    "\n",
    "# Normalizar e equalizar os dados de altitude para melhorar a distribuição\n",
    "altitude_data_normalized = exposure.equalize_hist(altitude_data)\n",
    "\n",
    "# Simulando dados de outras fontes (ex: umidade, precipitação)\n",
    "humidity_data = cp.random.random(altitude_data.shape)\n",
    "precipitation_data = cp.random.random(altitude_data.shape)\n",
    "\n",
    "# Empilhar os rasters para formar um conjunto de características\n",
    "features = cp.stack([cp.asarray(altitude_data_normalized), humidity_data, precipitation_data], axis=-1)\n",
    "features = features.reshape(-1, 3)  # Reshape para (n_samples, n_features)\n",
    "\n",
    "# Simular uma máscara de risco de inundação para treinamento\n",
    "risk_labels = cp.asarray((altitude_data < 5).reshape(-1))  # Esta é uma simplificação\n",
    "\n",
    "# Dividir dados para treinamento e teste\n",
    "X_train, X_test, y_train, y_test = train_test_split(features, risk_labels, test_size=0.2, random_state=42)\n",
    "\n",
    "# Modelo de classificação\n",
    "model = RandomForestClassifier(n_estimators=100, random_state=42)\n",
    "model.fit(X_train, y_train)\n",
    "\n",
    "# Prever o risco de enchente\n",
    "predicted_risk = model.predict(features).get().reshape(altitude_data.shape)\n",
    "\n",
    "# Aqui você continuaria com o GeoPandas para a exportação, que é executado na CPU\n",
    "transform = ds.GetGeoTransform()\n",
    "pixelWidth = transform[1]\n",
    "pixelHeight = -transform[5]\n",
    "cols = ds.RasterXSize\n",
    "rows = ds.RasterYSize\n",
    "xLeft = transform[0]\n",
    "yTop = transform[3]\n",
    "\n",
    "x_right = xLeft + (cols * pixelWidth)\n",
    "y_bottom = yTop + (rows * pixelHeight)\n",
    "\n",
    "x = np.linspace(xLeft, x_right, cols, endpoint=False)\n",
    "y = np.linspace(yTop, y_bottom, rows, endpoint=False)\n",
    "x, y = np.meshgrid(x, y)\n",
    "\n",
    "gdf = gpd.GeoDataFrame({'risk': predicted_risk.flatten()}, geometry=gpd.points_from_xy(x.flatten(), y.flatten()))\n",
    "\n",
    "# Exportar para Shapefile\n",
    "output_shapefile = \"/home/dv/Labs/notebook/sentinel-cloud/data-out/flood_risk_zones.shp\"\n",
    "gdf.to_file(output_shapefile)\n",
    "\n",
    "print(f\"Shapefile de zonas de risco de enchente salvo em: {output_shapefile}\")"
   ]
  },
  {
   "cell_type": "code",
   "execution_count": 11,
   "id": "1df723e0-7497-487c-84d9-07d22eb2a06b",
   "metadata": {},
   "outputs": [
    {
     "name": "stderr",
     "output_type": "stream",
     "text": [
      "ERROR:root:Erro ao processar a zona 32S525ZN: name 'load_raster_data' is not defined\n",
      "ERROR:root:Erro ao processar a zona 32S525SN: name 'load_raster_data' is not defined\n",
      "ERROR:root:Erro ao processar a zona 32S525ON: name 'load_raster_data' is not defined\n",
      "ERROR:root:Erro ao processar a zona 32S525RS: name 'load_raster_data' is not defined\n",
      "ERROR:root:Erro ao processar a zona 32S525FT: name 'load_raster_data' is not defined\n",
      "ERROR:root:Erro ao processar a zona 32S525DD: name 'load_raster_data' is not defined\n",
      "ERROR:root:Erro ao processar a zona 32S525VN: name 'load_raster_data' is not defined\n",
      "ERROR:root:Erro ao processar a zona 32S525HN: name 'load_raster_data' is not defined\n"
     ]
    }
   ],
   "source": [
    "import logging\n",
    "def process_zone(zone, base_path, output_base_path, water_threshold):\n",
    "    \"\"\"\n",
    "    Processa os dados geográficos para uma zona específica.\n",
    "    \n",
    "    Args:\n",
    "        zone (str): Código da zona (ex: 'ZN', 'SN').\n",
    "        base_path (str): Caminho base onde os arquivos estão armazenados.\n",
    "        output_base_path (str): Caminho base para salvar os resultados.\n",
    "        water_threshold (float): Limiar de altitude para áreas aquáticas.\n",
    "    \"\"\"\n",
    "    # Construir os caminhos de entrada e saída com base na zona\n",
    "    altitude_path = f\"{base_path}/{zone}/{zone}.tif\"\n",
    "    risk_index_path = f\"/home/dv/Labs/notebook/sentinel-cloud/data-utils/risk_index.tif\"\n",
    "    output_path = f\"{output_base_path}/{zone}_risk_index_masked.tif\"\n",
    "    output_contours_path = f\"{output_base_path}/{zone}_altitude_contours.tif\"\n",
    "    \n",
    "    try:\n",
    "        # Carregar dados de altitude\n",
    "        altitude_ds = load_raster_data(altitude_path)\n",
    "        altitude_data = altitude_ds.GetRasterBand(1).ReadAsArray()\n",
    "        \n",
    "        # Aplicar máscara de terra\n",
    "        land_mask = apply_land_mask(altitude_data, water_threshold)\n",
    "        \n",
    "        # Carregar e aplicar máscara ao índice de risco\n",
    "        risk_ds = load_raster_data(risk_index_path)\n",
    "        risk_data = risk_ds.GetRasterBand(1).ReadAsArray()\n",
    "        risk_data.SetGeoTransform(altitude_ds.GetGeoTransform())\n",
    "        risk_data.SetProjection(altitude_ds.GetProjection())\n",
    "        risk_data_masked = np.where(land_mask, risk_data, np.nan)\n",
    "        \n",
    "        # Salvar dados de risco processados\n",
    "        save_raster_data(output_path, risk_ds, risk_data_masked, np.nan)\n",
    "        \n",
    "        # Gerar e salvar contornos\n",
    "        save_contours(altitude_ds, land_mask, output_contours_path)\n",
    "        \n",
    "        logging.info(f\"Processamento concluído para a zona: {zone}\")\n",
    "    except Exception as e:\n",
    "        logging.error(f\"Erro ao processar a zona {zone}: {e}\")\n",
    "\n",
    "# Configurações e chamada da função\n",
    "base_path = \"/home/dv/Labs/notebook/sentinel-cloud/zonas\"\n",
    "output_base_path = \"/home/dv/Labs/notebook/sentinel-cloud/data-out\"\n",
    "water_threshold = 6.5\n",
    "\n",
    "zones = ['32S525ZN', '32S525SN', '32S525ON', '32S525RS', '32S525FT', '32S525DD', '32S525VN', '32S525HN']\n",
    "for zone in zones:\n",
    "    process_zone(zone, base_path, output_base_path, water_threshold)\n"
   ]
  },
  {
   "cell_type": "code",
   "execution_count": 14,
   "id": "d216be48-7f39-4849-bba2-53eba546eb38",
   "metadata": {},
   "outputs": [
    {
     "name": "stderr",
     "output_type": "stream",
     "text": [
      "ERROR:root:Erro ao processar a zona 32S525ZN: 'numpy.ndarray' object has no attribute 'SetGeoTransform'\n",
      "ERROR:root:Erro ao processar a zona 32S525SN: 'numpy.ndarray' object has no attribute 'SetGeoTransform'\n",
      "ERROR:root:Erro ao processar a zona 32S525ON: 'numpy.ndarray' object has no attribute 'SetGeoTransform'\n",
      "ERROR:root:Erro ao processar a zona 32S525RS: 'numpy.ndarray' object has no attribute 'SetGeoTransform'\n",
      "ERROR:root:Erro ao processar a zona 32S525FT: 'numpy.ndarray' object has no attribute 'SetGeoTransform'\n",
      "ERROR:root:Erro ao processar a zona 32S525DD: 'numpy.ndarray' object has no attribute 'SetGeoTransform'\n",
      "ERROR:root:Erro ao processar a zona 32S525VN: 'numpy.ndarray' object has no attribute 'SetGeoTransform'\n",
      "ERROR:root:Erro ao processar a zona 32S525HN: 'numpy.ndarray' object has no attribute 'SetGeoTransform'\n"
     ]
    }
   ],
   "source": [
    "    out_ds.SetGeoTransform(source_ds.GetGeoTransform())  # Configura a transformação geográfica\n",
    "    out_ds.SetProjection(source_ds.GetProjection())  # "
   ]
  }
 ],
 "metadata": {
  "kernelspec": {
   "display_name": "Python (geo_env)",
   "language": "python",
   "name": "geopy"
  },
  "language_info": {
   "codemirror_mode": {
    "name": "ipython",
    "version": 3
   },
   "file_extension": ".py",
   "mimetype": "text/x-python",
   "name": "python",
   "nbconvert_exporter": "python",
   "pygments_lexer": "ipython3",
   "version": "3.11.9"
  }
 },
 "nbformat": 4,
 "nbformat_minor": 5
}
