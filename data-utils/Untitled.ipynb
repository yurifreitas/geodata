{
 "cells": [
  {
   "cell_type": "code",
   "execution_count": null,
   "id": "9451ff62-7a7a-453b-a90d-1087e7700a46",
   "metadata": {},
   "outputs": [],
   "source": [
    "import rasterio\n",
    "import numpy as np\n",
    "import matplotlib.pyplot as plt\n",
    "\n",
    "# Abrir o arquivo DEM\n",
    "with rasterio.open('2024-05-06-00:00_2024-05-06-23:59_DEM_MAPZEN_DEM_(Raw).tif') as src:\n",
    "    dem_data = src.read(1)  # Lê a primeira banda\n",
    "\n",
    "# Mostrar a imagem DEM\n",
    "plt.imshow(dem_data, cmap='terrain')\n",
    "plt.colorbar(label='Elevação (m)')\n",
    "plt.title('Mapa de Elevação')\n",
    "plt.show()\n"
   ]
  },
  {
   "cell_type": "code",
   "execution_count": null,
   "id": "326a7070-b7d7-497f-8ca0-3d92097fafa5",
   "metadata": {},
   "outputs": [],
   "source": [
    "# Definir o limite de elevação para áreas de risco\n",
    "limite_elevacao = 100  # ajuste este valor conforme necessário\n",
    "\n",
    "# Criar máscara de áreas de risco (elevação abaixo do limite)\n",
    "areas_risco = dem_data < limite_elevacao\n",
    "\n",
    "# Visualizar áreas de risco\n",
    "plt.imshow(areas_risco, cmap='Reds')\n",
    "plt.title('Zonas de Risco de Enchentes')\n",
    "plt.show()\n"
   ]
  },
  {
   "cell_type": "code",
   "execution_count": null,
   "id": "fd7fd1b9-2fe8-4836-93ca-7ae5287b6f60",
   "metadata": {},
   "outputs": [],
   "source": [
    "def process_zone(zone, base_path, output_base_path, water_threshold):\n",
    "    \"\"\"\n",
    "    Processa os dados geográficos para uma zona específica.\n",
    "    \n",
    "    Args:\n",
    "        zone (str): Código da zona (ex: 'ZN', 'SN').\n",
    "        base_path (str): Caminho base onde os arquivos estão armazenados.\n",
    "        output_base_path (str): Caminho base para salvar os resultados.\n",
    "        water_threshold (float): Limiar de altitude para áreas aquáticas.\n",
    "    \"\"\"\n",
    "    # Construir os caminhos de entrada e saída com base na zona\n",
    "    altitude_path = f\"{base_path}/{zone}/{zone}.tif\"\n",
    "    risk_index_path = f\"{base_path}/{zone}/risk_index.tif\"\n",
    "    output_path = f\"{output_base_path}/{zone}_risk_index_masked.tif\"\n",
    "    output_contours_path = f\"{output_base_path}/{zone}_altitude_contours.tif\"\n",
    "    \n",
    "    try:\n",
    "        # Carregar dados de altitude\n",
    "        altitude_ds = load_raster_data(altitude_path)\n",
    "        altitude_data = altitude_ds.GetRasterBand(1).ReadAsArray()\n",
    "        \n",
    "        # Aplicar máscara de terra\n",
    "        land_mask = apply_land_mask(altitude_data, water_threshold)\n",
    "        \n",
    "        # Carregar e aplicar máscara ao índice de risco\n",
    "        risk_ds = load_raster_data(risk_index_path)\n",
    "        risk_data = risk_ds.GetRasterBand(1).ReadAsArray()\n",
    "        risk_data.SetGeoTransform(altitude_ds.GetGeoTransform())\n",
    "        risk_data.SetProjection(altitude_ds.GetProjection())\n",
    "        risk_data_masked = np.where(land_mask, risk_data, np.nan)\n",
    "        \n",
    "        # Salvar dados de risco processados\n",
    "        save_raster_data(output_path, risk_ds, risk_data_masked, np.nan)\n",
    "        \n",
    "        # Gerar e salvar contornos\n",
    "        save_contours(altitude_ds, land_mask, output_contours_path)\n",
    "        \n",
    "        logging.info(f\"Processamento concluído para a zona: {zone}\")\n",
    "    except Exception as e:\n",
    "        logging.error(f\"Erro ao processar a zona {zone}: {e}\")\n",
    "\n",
    "# Configurações e chamada da função\n",
    "base_path = \"/home/dv/Labs/notebook/sentinel-cloud/zonas\"\n",
    "output_base_path = \"/home/dv/Labs/notebook/sentinel-cloud/data-out\"\n",
    "water_threshold = 6.5\n",
    "\n",
    "zones = ['ZN', 'SN', 'ON', 'RS', 'FT', 'DD', 'VN', 'HN']\n",
    "for zone in zones:\n",
    "    process_zone(zone, base_path, output_base_path, water_threshold)\n"
   ]
  }
 ],
 "metadata": {
  "kernelspec": {
   "display_name": "Python (geo_env)",
   "language": "python",
   "name": "geopy"
  },
  "language_info": {
   "codemirror_mode": {
    "name": "ipython",
    "version": 3
   },
   "file_extension": ".py",
   "mimetype": "text/x-python",
   "name": "python",
   "nbconvert_exporter": "python",
   "pygments_lexer": "ipython3",
   "version": "3.11.9"
  }
 },
 "nbformat": 4,
 "nbformat_minor": 5
}
