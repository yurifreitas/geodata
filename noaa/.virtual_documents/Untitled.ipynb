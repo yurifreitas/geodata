import pandas as pd
from IPython.display import display
import ipywidgets as widgets
# Carregar o arquivo Excel
file_path = 'emdat-country-profiles_2024_04_29.xlsx' 
dados = pd.read_excel(file_path)

print("Número de colunas:", len(dados.columns))
print("Nomes das colunas:", dados.columns.tolist())

# Renomear colunas conforme a imagem para garantir consistência
dados.columns = [
    'Year', 'Country', 'ISO', 'Disaster Group', 'Disaster Subgroup', 'Disaster Type', 'Disaster Subtype',
    'Total Events', 'Total Affected', 'Total Deaths', 'Total Damage (USD, original)', 'Total Damage (USD, adjusted)', 'CPI'
]

# Exibir informações básicas para verificação
print(dados.head()) 


# Configurações do Pandas para exibição do DataFrame
pd.set_option('display.max_columns', None)  # Mostra todas as colunas
pd.set_option('display.max_rows', None)     # Mostra todas as linhas
pd.set_option('display.expand_frame_repr', True)  # Expande a representação do DataFrame
pd.set_option('display.max_colwidth', None)  # Mostra o conteúdo completo das células


traducao_tipo_desastre = {
    'Drought': 'Seca',
    'Earthquake': 'Terremoto',
    'Extreme temperature': 'Temperatura Extrema',
    'Flood': 'Inundação',
    'Mass movement (wet)': 'Movimento em Massa (úmido)',
    'Storm': 'Tempestade',
    'Wildfire': 'Incêndio Florestal'
}

# Criar widgets para os filtros
ano_dropdown = widgets.Dropdown(
    options=['Todos'] + sorted(dados['Year'].unique().tolist()),
    value='Todos',
    description='Ano:',
    disabled=False,
)

pais_dropdown = widgets.Dropdown(
    options=['Todos'] + sorted(dados['Country'].unique().tolist()),
    value='Todos',
    description='País:',
    disabled=False,
)

# Widget de saída para exibir o DataFrame filtrado
output = widgets.Output()

def filtrar_dados(change):
    with output:
        output.clear_output()
        filtered_data = dados
        if ano_dropdown.value != 'Todos':
            filtered_data = filtered_data[filtered_data['Year'] == ano_dropdown.value]
        if pais_dropdown.value != 'Todos':
            filtered_data = filtered_data[filtered_data['Country'] == pais_dropdown.value]
        
        if pais_dropdown.value == 'Brazil':
            # Agrupar por tipo de desastre e somar os afetados e vítimas
            grouped_data = filtered_data.groupby('Disaster Type').agg({'Total Affected': 'sum', 'Total Deaths': 'sum'})
            # Traduzir os tipos de desastre
            grouped_data = grouped_data.rename(index=traducao_tipo_desastre)
            print("Totais de Afetados e Vítimas por Tipo de Desastre no Brasil:")
            display(grouped_data)
        
        display(filtered_data)

# Adicionar observadores aos widgets de dropdown para atualizar os dados ao mudar os valores
ano_dropdown.observe(filtrar_dados, names='value')
pais_dropdown.observe(filtrar_dados, names='value')

# Exibir os widgets
display(ano_dropdown, pais_dropdown)
display(output)

# Chamar a função inicialmente para mostrar os dados
filtrar_dados(None)


import plotly.express as px

# Função para visualizar os dados de desastres no Brasil
def visualizar_dados_brasil(filtered_data):
    # Agrupar por tipo de desastre e somar os afetados e mortes
    grouped_data = filtered_data.groupby('Disaster Type').agg({'Total Affected': 'sum', 'Total Deaths': 'sum'}).reset_index()
    # Traduzir os tipos de desastre
    grouped_data['Disaster Type'] = grouped_data['Disaster Type'].map(traducao_tipo_desastre)
    
    # Criar um gráfico de barras com dados acumulados
    fig = px.bar(grouped_data, x='Disaster Type', y=['Total Affected', 'Total Deaths'],
                 title="Totais de Afetados e Vítimas por Tipo de Desastre no Brasil",
                 labels={'value':'Quantidade', 'variable': 'Categoria'},
                 barmode='group')
    fig.show()

def filtrar_dados(change):
    with output:
        output.clear_output()
        filtered_data = dados
        if ano_dropdown.value != 'Todos':
            filtered_data = filtered_data[filtered_data['Year'] == ano_dropdown.value]
        if pais_dropdown.value != 'Todos':
            filtered_data = filtered_data[filtered_data['Country'] == pais_dropdown.value]
        
        if pais_dropdown.value == 'Brazil':
            visualizar_dados_brasil(filtered_data)
        else:
            display(filtered_data)

# Adicionar observadores aos widgets de dropdown para atualizar os dados ao mudar os valores
ano_dropdown.observe(filtrar_dados, names='value')
pais_dropdown.observe(filtrar_dados, names='value')

# Exibir os widgets e inicializar a visualização
display(ano_dropdown, pais_dropdown)
display(output)
filtrar_dados(None)

