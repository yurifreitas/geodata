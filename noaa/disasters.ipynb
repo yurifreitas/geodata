{
 "cells": [
  {
   "cell_type": "code",
   "execution_count": 1,
   "id": "9b726dd0-1dec-4599-8b43-7126eec62726",
   "metadata": {},
   "outputs": [
    {
     "name": "stdout",
     "output_type": "stream",
     "text": [
      "Número de colunas: 13\n",
      "Nomes das colunas: ['Year', 'Country', 'ISO', 'Disaster Group', 'Disaster Subroup', 'Disaster Type', 'Disaster Subtype', 'Total Events', 'Total Affected', 'Total Deaths', 'Total Damage (USD, original)', 'Total Damage (USD, adjusted)', 'CPI']\n",
      "   Year      Country  ISO Disaster Group Disaster Subgroup Disaster Type  \\\n",
      "0  2000  Afghanistan  AFG        Natural    Climatological       Drought   \n",
      "1  2000      Algeria  DZA        Natural      Hydrological         Flood   \n",
      "2  2000      Algeria  DZA        Natural      Hydrological         Flood   \n",
      "3  2000      Algeria  DZA        Natural    Meteorological         Storm   \n",
      "4  2000       Angola  AGO        Natural      Hydrological         Flood   \n",
      "\n",
      "  Disaster Subtype  Total Events  Total Affected  Total Deaths  \\\n",
      "0          Drought             1       2580000.0          37.0   \n",
      "1      Flash flood             2           105.0          37.0   \n",
      "2  Flood (General)             2           100.0           7.0   \n",
      "3  Storm (General)             1            10.0           4.0   \n",
      "4  Flood (General)             3          9011.0          15.0   \n",
      "\n",
      "   Total Damage (USD, original)  Total Damage (USD, adjusted)        CPI  \n",
      "0                       50000.0                       88473.0  56.514291  \n",
      "1                           NaN                           NaN  56.514291  \n",
      "2                           NaN                           NaN  56.514291  \n",
      "3                           NaN                           NaN  56.514291  \n",
      "4                           NaN                           NaN  56.514291  \n"
     ]
    },
    {
     "data": {
      "application/vnd.jupyter.widget-view+json": {
       "model_id": "b62d2d7b8c694364b8a792ad6b15777e",
       "version_major": 2,
       "version_minor": 0
      },
      "text/plain": [
       "Dropdown(description='Ano:', options=('Todos', 2000, 2001, 2002, 2003, 2004, 2005, 2006, 2007, 2008, 2009, 201…"
      ]
     },
     "metadata": {},
     "output_type": "display_data"
    },
    {
     "data": {
      "application/vnd.jupyter.widget-view+json": {
       "model_id": "6ebf01b7b62a4dbd895e2895908347a7",
       "version_major": 2,
       "version_minor": 0
      },
      "text/plain": [
       "Dropdown(description='País:', options=('Todos', 'Afghanistan', 'Albania', 'Algeria', 'American Samoa', 'Angola…"
      ]
     },
     "metadata": {},
     "output_type": "display_data"
    },
    {
     "data": {
      "application/vnd.jupyter.widget-view+json": {
       "model_id": "eac7301abdd342f9822b027c20e6faf0",
       "version_major": 2,
       "version_minor": 0
      },
      "text/plain": [
       "Output()"
      ]
     },
     "metadata": {},
     "output_type": "display_data"
    }
   ],
   "source": [
    "import pandas as pd\n",
    "from IPython.display import display\n",
    "import ipywidgets as widgets\n",
    "# Carregar o arquivo Excel\n",
    "file_path = 'emdat-country-profiles_2024_04_29.xlsx' \n",
    "dados = pd.read_excel(file_path)\n",
    "\n",
    "print(\"Número de colunas:\", len(dados.columns))\n",
    "print(\"Nomes das colunas:\", dados.columns.tolist())\n",
    "\n",
    "# Renomear colunas conforme a imagem para garantir consistência\n",
    "dados.columns = [\n",
    "    'Year', 'Country', 'ISO', 'Disaster Group', 'Disaster Subgroup', 'Disaster Type', 'Disaster Subtype',\n",
    "    'Total Events', 'Total Affected', 'Total Deaths', 'Total Damage (USD, original)', 'Total Damage (USD, adjusted)', 'CPI'\n",
    "]\n",
    "\n",
    "# Exibir informações básicas para verificação\n",
    "print(dados.head()) \n",
    "\n",
    "\n",
    "# Configurações do Pandas para exibição do DataFrame\n",
    "pd.set_option('display.max_columns', None)  # Mostra todas as colunas\n",
    "pd.set_option('display.max_rows', None)     # Mostra todas as linhas\n",
    "pd.set_option('display.expand_frame_repr', True)  # Expande a representação do DataFrame\n",
    "pd.set_option('display.max_colwidth', None)  # Mostra o conteúdo completo das células\n",
    "\n",
    "\n",
    "traducao_tipo_desastre = {\n",
    "    'Drought': 'Seca',\n",
    "    'Earthquake': 'Terremoto',\n",
    "    'Extreme temperature': 'Temperatura Extrema',\n",
    "    'Flood': 'Inundação',\n",
    "    'Mass movement (wet)': 'Movimento em Massa (úmido)',\n",
    "    'Storm': 'Tempestade',\n",
    "    'Wildfire': 'Incêndio Florestal'\n",
    "}\n",
    "\n",
    "# Criar widgets para os filtros\n",
    "ano_dropdown = widgets.Dropdown(\n",
    "    options=['Todos'] + sorted(dados['Year'].unique().tolist()),\n",
    "    value='Todos',\n",
    "    description='Ano:',\n",
    "    disabled=False,\n",
    ")\n",
    "\n",
    "pais_dropdown = widgets.Dropdown(\n",
    "    options=['Todos'] + sorted(dados['Country'].unique().tolist()),\n",
    "    value='Todos',\n",
    "    description='País:',\n",
    "    disabled=False,\n",
    ")\n",
    "\n",
    "# Widget de saída para exibir o DataFrame filtrado\n",
    "output = widgets.Output()\n",
    "\n",
    "def filtrar_dados(change):\n",
    "    with output:\n",
    "        output.clear_output()\n",
    "        filtered_data = dados\n",
    "        if ano_dropdown.value != 'Todos':\n",
    "            filtered_data = filtered_data[filtered_data['Year'] == ano_dropdown.value]\n",
    "        if pais_dropdown.value != 'Todos':\n",
    "            filtered_data = filtered_data[filtered_data['Country'] == pais_dropdown.value]\n",
    "        \n",
    "        if pais_dropdown.value == 'Brazil':\n",
    "            # Agrupar por tipo de desastre e somar os afetados e vítimas\n",
    "            grouped_data = filtered_data.groupby('Disaster Type').agg({'Total Affected': 'sum', 'Total Deaths': 'sum'})\n",
    "            # Traduzir os tipos de desastre\n",
    "            grouped_data = grouped_data.rename(index=traducao_tipo_desastre)\n",
    "            print(\"Totais de Afetados e Vítimas por Tipo de Desastre no Brasil:\")\n",
    "            display(grouped_data)\n",
    "        \n",
    "        display(filtered_data)\n",
    "\n",
    "# Adicionar observadores aos widgets de dropdown para atualizar os dados ao mudar os valores\n",
    "ano_dropdown.observe(filtrar_dados, names='value')\n",
    "pais_dropdown.observe(filtrar_dados, names='value')\n",
    "\n",
    "# Exibir os widgets\n",
    "display(ano_dropdown, pais_dropdown)\n",
    "display(output)\n",
    "\n",
    "# Chamar a função inicialmente para mostrar os dados\n",
    "filtrar_dados(None)"
   ]
  },
  {
   "cell_type": "code",
   "execution_count": 2,
   "id": "ec4a46c9-c3a6-40bf-976c-4893f4637ff3",
   "metadata": {},
   "outputs": [
    {
     "data": {
      "application/vnd.jupyter.widget-view+json": {
       "model_id": "b62d2d7b8c694364b8a792ad6b15777e",
       "version_major": 2,
       "version_minor": 0
      },
      "text/plain": [
       "Dropdown(description='Ano:', options=('Todos', 2000, 2001, 2002, 2003, 2004, 2005, 2006, 2007, 2008, 2009, 201…"
      ]
     },
     "metadata": {},
     "output_type": "display_data"
    },
    {
     "data": {
      "application/vnd.jupyter.widget-view+json": {
       "model_id": "6ebf01b7b62a4dbd895e2895908347a7",
       "version_major": 2,
       "version_minor": 0
      },
      "text/plain": [
       "Dropdown(description='País:', options=('Todos', 'Afghanistan', 'Albania', 'Algeria', 'American Samoa', 'Angola…"
      ]
     },
     "metadata": {},
     "output_type": "display_data"
    },
    {
     "data": {
      "application/vnd.jupyter.widget-view+json": {
       "model_id": "eac7301abdd342f9822b027c20e6faf0",
       "version_major": 2,
       "version_minor": 0
      },
      "text/plain": [
       "Output(outputs=({'output_type': 'display_data', 'data': {'text/plain': \"      Year                            …"
      ]
     },
     "metadata": {},
     "output_type": "display_data"
    }
   ],
   "source": [
    "import plotly.express as px\n",
    "\n",
    "# Função para visualizar os dados de desastres no Brasil\n",
    "def visualizar_dados_brasil(filtered_data):\n",
    "    # Agrupar por tipo de desastre e somar os afetados e mortes\n",
    "    grouped_data = filtered_data.groupby('Disaster Type').agg({'Total Affected': 'sum', 'Total Deaths': 'sum'}).reset_index()\n",
    "    # Traduzir os tipos de desastre\n",
    "    grouped_data['Disaster Type'] = grouped_data['Disaster Type'].map(traducao_tipo_desastre)\n",
    "    \n",
    "    # Criar um gráfico de barras com dados acumulados\n",
    "    fig = px.bar(grouped_data, x='Disaster Type', y=['Total Affected', 'Total Deaths'],\n",
    "                 title=\"Totais de Afetados e Vítimas por Tipo de Desastre no Brasil\",\n",
    "                 labels={'value':'Quantidade', 'variable': 'Categoria'},\n",
    "                 barmode='group')\n",
    "    fig.show()\n",
    "\n",
    "def filtrar_dados(change):\n",
    "    with output:\n",
    "        output.clear_output()\n",
    "        filtered_data = dados\n",
    "        if ano_dropdown.value != 'Todos':\n",
    "            filtered_data = filtered_data[filtered_data['Year'] == ano_dropdown.value]\n",
    "        if pais_dropdown.value != 'Todos':\n",
    "            filtered_data = filtered_data[filtered_data['Country'] == pais_dropdown.value]\n",
    "        \n",
    "        if pais_dropdown.value == 'Brazil':\n",
    "            visualizar_dados_brasil(filtered_data)\n",
    "        else:\n",
    "            display(filtered_data)\n",
    "\n",
    "# Adicionar observadores aos widgets de dropdown para atualizar os dados ao mudar os valores\n",
    "ano_dropdown.observe(filtrar_dados, names='value')\n",
    "pais_dropdown.observe(filtrar_dados, names='value')\n",
    "\n",
    "# Exibir os widgets e inicializar a visualização\n",
    "display(ano_dropdown, pais_dropdown)\n",
    "display(output)\n",
    "filtrar_dados(None)\n"
   ]
  }
 ],
 "metadata": {
  "kernelspec": {
   "display_name": "Utils",
   "language": "python",
   "name": "utils"
  },
  "language_info": {
   "codemirror_mode": {
    "name": "ipython",
    "version": 3
   },
   "file_extension": ".py",
   "mimetype": "text/x-python",
   "name": "python",
   "nbconvert_exporter": "python",
   "pygments_lexer": "ipython3",
   "version": "3.11.9"
  }
 },
 "nbformat": 4,
 "nbformat_minor": 5
}
